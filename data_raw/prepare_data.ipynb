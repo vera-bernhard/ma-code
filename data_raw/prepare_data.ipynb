{
 "cells": [
  {
   "cell_type": "markdown",
   "metadata": {},
   "source": [
    "# Prepare Data"
   ]
  },
  {
   "cell_type": "markdown",
   "metadata": {},
   "source": [
    "## SRF Audio Description Data"
   ]
  },
  {
   "cell_type": "code",
   "execution_count": 1,
   "metadata": {},
   "outputs": [
    {
     "name": "stdout",
     "output_type": "stream",
     "text": [
      "Processing 20191212_MM_Fahrlehrer_S04_F05_DOKS20190711_TM_0005_TSP_01...\n",
      "Processing 1G100_509...\n",
      "Processing 1G100_390...\n",
      "Processing DOK_Blind_Runners...\n",
      "Processing 1G100_344...\n",
      "Processing Auf_und_davon_2024_F02...\n",
      "Processing MCDC_Sommerspecial_S24F04...\n",
      "Processing Mona Mittendrin_Im_Skigebiet_AD_final...\n",
      "Processing 1G100_374...\n",
      "Processing 1G100_351...\n",
      "Processing Familiensache_F2...\n",
      "Processing 1G100_322...\n",
      "Processing 1G100_348...\n",
      "Processing 1G100_524...\n",
      "Processing 1G100_In Love...\n",
      "Processing 1G100_392...\n",
      "Processing 1G100_329...\n",
      "Processing 1G100_377...\n",
      "Processing 1G100_486...\n",
      "Processing SRFbdL_Fitze_übernimmt_2024_F01...\n",
      "Processing 1G100_358...\n",
      "Processing Auf_und_davon_4_2019...\n",
      "Processing 1g100_520...\n",
      "Processing 1G100_320...\n",
      "Processing 1G100_308...\n",
      "Processing SRFbdL_Heimweh_2024_F01...\n",
      "Processing 1G100_360...\n",
      "Processing 1G100_313...\n",
      "Processing Pflegefachkräfte_02...\n",
      "Processing 1G100_363...\n",
      "Processing 1G100_338...\n",
      "Processing 1G100_304...\n",
      "Processing 1G100_403...\n",
      "Processing AD_Mona-mittendrin_Ep2_DJBobo_final...\n",
      "Processing 1G100_305...\n",
      "Processing 1G100_414...\n",
      "Processing 1G100_Winterspecial...\n",
      "Processing AD_MM_02_2020_Asyl...\n",
      "Processing 1G100_301...\n",
      "Processing SRFbdL_Einfach_retour_S24F01...\n",
      "Processing 1G100_415...\n",
      "Processing AD_MM_Gehoerlose_redig...\n",
      "Processing 1G100_317...\n",
      "Processing 1G100_383...\n",
      "Processing Tod_in_der_Lochmatt...\n",
      "Processing 1G100_326...\n",
      "Processing Jimmie...\n",
      "Processing 1G100_413...\n",
      "Processing 1G100_373...\n",
      "Processing AuD_2023_F5...\n",
      "Processing 1G100_384...\n",
      "Processing AD_MM_02_2020_Kinderspital...\n",
      "Processing 1g100_512...\n",
      "Processing 1G100_406...\n",
      "Processing 1G100_299...\n",
      "Processing SRFbdL_Familiensache_S24F02...\n",
      "Processing SRFbdL_Landfrauenküche_S24F02...\n",
      "Processing Wir_bekommen_ein_Baby_EP2...\n",
      "Processing 1G100_316...\n",
      "Processing 1G100_289...\n",
      "Processing 1G100_397...\n",
      "Processing AuD_2023_F4_Final_Fabio...\n",
      "Processing 1G100_370...\n",
      "Processing 1G100_410...\n",
      "Processing 1G100_387...\n",
      "Processing SRFbdL_Fitze_1_Hüttengeschichten...\n",
      "Processing SRFbdL_Familiensache_2024_F03...\n",
      "Processing 20200214_AuD_S11_F06...\n",
      "Processing Auf_und_davon_6_2019...\n",
      "Processing 1G100_379...\n",
      "Processing Mona_Mittendrin_Abfallberg...\n",
      "Processing Familiensache_F4...\n",
      "Processing 221003_DOK_Polizeischule...\n",
      "Processing 1G100_298...\n",
      "Processing Wer_wohnt_wo_S24F01...\n"
     ]
    },
    {
     "ename": "FileNotFoundError",
     "evalue": "[Errno 2] No such file or directory: '../data_prepared/srf_ad/1_Wer_wohnt_wo_S24F01.wav' -> '../data_prepared/srf_ad/075_157_Wer_wohnt_wo_S24F01.wav'",
     "output_type": "error",
     "traceback": [
      "\u001b[0;31m---------------------------------------------------------------------------\u001b[0m",
      "\u001b[0;31mFileNotFoundError\u001b[0m                         Traceback (most recent call last)",
      "Cell \u001b[0;32mIn[1], line 22\u001b[0m\n\u001b[1;32m      7\u001b[0m PREPARED_PATH \u001b[38;5;241m=\u001b[39m \u001b[38;5;124m'\u001b[39m\u001b[38;5;124m../data_prepared/srf_ad\u001b[39m\u001b[38;5;124m'\u001b[39m\n\u001b[1;32m     10\u001b[0m manual_match \u001b[38;5;241m=\u001b[39m {\n\u001b[1;32m     11\u001b[0m     \u001b[38;5;124m'\u001b[39m\u001b[38;5;124m20200214_AuD_S11_F06.wav\u001b[39m\u001b[38;5;124m'\u001b[39m: \u001b[38;5;124m'\u001b[39m\u001b[38;5;124m2020_AuD_S11_F06.srt\u001b[39m\u001b[38;5;124m'\u001b[39m,\n\u001b[1;32m     12\u001b[0m     \u001b[38;5;124m'\u001b[39m\u001b[38;5;124m20200214_AuD_S11_F05.wav\u001b[39m\u001b[38;5;124m'\u001b[39m: \u001b[38;5;124m'\u001b[39m\u001b[38;5;124m2020_AuD_S11_F05.srt\u001b[39m\u001b[38;5;124m'\u001b[39m,\n\u001b[0;32m   (...)\u001b[0m\n\u001b[1;32m     19\u001b[0m     \u001b[38;5;124m'\u001b[39m\u001b[38;5;124m20200214_AuD_S11_F01.wav\u001b[39m\u001b[38;5;124m'\u001b[39m:\u001b[38;5;124m'\u001b[39m\u001b[38;5;124m2020_AuD_S11_F01.srt\u001b[39m\u001b[38;5;124m'\u001b[39m,\n\u001b[1;32m     20\u001b[0m }\n\u001b[0;32m---> 22\u001b[0m \u001b[43mprepare_srfad_data\u001b[49m\u001b[43m(\u001b[49m\u001b[43mAUDIO_PATH\u001b[49m\u001b[43m,\u001b[49m\u001b[43m \u001b[49m\u001b[43mTEXT_PATH\u001b[49m\u001b[43m,\u001b[49m\u001b[43m \u001b[49m\u001b[43mPREPARED_PATH\u001b[49m\u001b[43m,\u001b[49m\u001b[43m \u001b[49m\u001b[43mmanual_match\u001b[49m\u001b[43m)\u001b[49m\n",
      "File \u001b[0;32m~/Documents/Uni/Master/Master_Thesis/ma-code/data_raw/datareader.py:254\u001b[0m, in \u001b[0;36mprepare_srfad_data\u001b[0;34m(wav_dir, srt_dir, outdir, manual_match)\u001b[0m\n\u001b[1;32m    252\u001b[0m idx \u001b[38;5;241m=\u001b[39m \u001b[38;5;241m0\u001b[39m\n\u001b[1;32m    253\u001b[0m \u001b[38;5;28;01mfor\u001b[39;00m wav_file, srt_file \u001b[38;5;129;01min\u001b[39;00m data_files:\n\u001b[0;32m--> 254\u001b[0m     idx \u001b[38;5;241m+\u001b[39m\u001b[38;5;241m=\u001b[39m \u001b[38;5;241m1\u001b[39m\n\u001b[1;32m    255\u001b[0m     id_string \u001b[38;5;241m=\u001b[39m \u001b[38;5;28mstr\u001b[39m(idx)\u001b[38;5;241m.\u001b[39mzfill(\u001b[38;5;241m3\u001b[39m)\n\u001b[1;32m    256\u001b[0m     extract_audio_and_text_all(\n\u001b[1;32m    257\u001b[0m         wav_file, srt_file, outdir, prefix\u001b[38;5;241m=\u001b[39mid_string)\n",
      "File \u001b[0;32m~/Documents/Uni/Master/Master_Thesis/ma-code/data_raw/datareader.py:137\u001b[0m, in \u001b[0;36mextract_audio_and_text_all\u001b[0;34m(wav_file, srt_file, outdir, prefix)\u001b[0m\n\u001b[1;32m    134\u001b[0m timestamps \u001b[38;5;241m=\u001b[39m [(sub[\u001b[38;5;124m'\u001b[39m\u001b[38;5;124mstart\u001b[39m\u001b[38;5;124m'\u001b[39m], sub[\u001b[38;5;124m'\u001b[39m\u001b[38;5;124mend\u001b[39m\u001b[38;5;124m'\u001b[39m], sub[\u001b[38;5;124m'\u001b[39m\u001b[38;5;124midx\u001b[39m\u001b[38;5;124m'\u001b[39m]) \u001b[38;5;28;01mfor\u001b[39;00m sub \u001b[38;5;129;01min\u001b[39;00m srt_data]\n\u001b[1;32m    135\u001b[0m audio_files \u001b[38;5;241m=\u001b[39m extract_audio_snippets(wav_file, timestamps, outdir)\n\u001b[0;32m--> 137\u001b[0m \u001b[38;5;28;01mfor\u001b[39;00m idx, audio_file \u001b[38;5;129;01min\u001b[39;00m \u001b[38;5;28menumerate\u001b[39m(audio_files):\n\u001b[1;32m    138\u001b[0m     new_name \u001b[38;5;241m=\u001b[39m \u001b[38;5;124mf\u001b[39m\u001b[38;5;124m'\u001b[39m\u001b[38;5;132;01m{\u001b[39;00mprefix\u001b[38;5;132;01m}\u001b[39;00m\u001b[38;5;124m_\u001b[39m\u001b[38;5;132;01m{\u001b[39;00midx\u001b[38;5;132;01m}\u001b[39;00m\u001b[38;5;124m_\u001b[39m\u001b[38;5;132;01m{\u001b[39;00mbasename\u001b[38;5;132;01m}\u001b[39;00m\u001b[38;5;124m.wav\u001b[39m\u001b[38;5;124m'\u001b[39m\n\u001b[1;32m    139\u001b[0m     os\u001b[38;5;241m.\u001b[39mrename(audio_file, os\u001b[38;5;241m.\u001b[39mpath\u001b[38;5;241m.\u001b[39mjoin(outdir, new_name))\n",
      "\u001b[0;31mFileNotFoundError\u001b[0m: [Errno 2] No such file or directory: '../data_prepared/srf_ad/1_Wer_wohnt_wo_S24F01.wav' -> '../data_prepared/srf_ad/075_157_Wer_wohnt_wo_S24F01.wav'"
     ]
    }
   ],
   "source": [
    "from datareader import prepare_srfad_data\n",
    "import sys\n",
    "sys.path.append('..')\n",
    "\n",
    "AUDIO_PATH = '../data_raw/SRF_AD/audio_full_ad'\n",
    "TEXT_PATH = '../data_raw/SRF_AD/subtitles'\n",
    "PREPARED_PATH = '../data_prepared/srf_ad'\n",
    "\n",
    "\n",
    "manual_match = {\n",
    "    '20200214_AuD_S11_F06.wav': '2020_AuD_S11_F06.srt',\n",
    "    '20200214_AuD_S11_F05.wav': '2020_AuD_S11_F05.srt',\n",
    "    '20200214_AuD_S11_F03.wav': '2020_AuD_S11_F03.srt',\n",
    "    '20200214_AuD_S11_F04.wav': '2020_AuD_S11_F04.srt',\n",
    "    '20200214_AuD_S11_F02.wav': '2020_AuD_S11_F02.srt',\n",
    "    '20200214_AuD_S11_F07.wav': '2020_AuD_S11_F07.srt',\n",
    "    '1G100_Augustspecial.wav': '1G100_August_Special.CHDE.srt',\n",
    "    '1G100_401.wav': '1g100_401.CHDE.srt',\n",
    "    '20200214_AuD_S11_F01.wav':'2020_AuD_S11_F01.srt',\n",
    "}\n",
    "\n",
    "prepare_srfad_data(AUDIO_PATH, TEXT_PATH, PREPARED_PATH, manual_match)\n",
    "\n"
   ]
  },
  {
   "cell_type": "code",
   "execution_count": 4,
   "metadata": {},
   "outputs": [
    {
     "ename": "TypeError",
     "evalue": "extract_audio_and_text_all() missing 1 required positional argument: 'prefix'",
     "output_type": "error",
     "traceback": [
      "\u001b[0;31m---------------------------------------------------------------------------\u001b[0m",
      "\u001b[0;31mTypeError\u001b[0m                                 Traceback (most recent call last)",
      "Cell \u001b[0;32mIn[4], line 5\u001b[0m\n\u001b[1;32m      3\u001b[0m wav \u001b[38;5;241m=\u001b[39m \u001b[38;5;124m'\u001b[39m\u001b[38;5;124m/home/vera/Documents/Uni/Master/Master_Thesis/ma-code/data_raw/SRF_AD/audio_full_ad/Wer_wohnt_wo_S24F01.wav\u001b[39m\u001b[38;5;124m'\u001b[39m\n\u001b[1;32m      4\u001b[0m prefix \u001b[38;5;241m=\u001b[39m \u001b[38;5;124m'\u001b[39m\u001b[38;5;124m075\u001b[39m\u001b[38;5;124m'\u001b[39m\n\u001b[0;32m----> 5\u001b[0m \u001b[43mextract_audio_and_text_all\u001b[49m\u001b[43m(\u001b[49m\u001b[43msrt\u001b[49m\u001b[43m,\u001b[49m\u001b[43m \u001b[49m\u001b[43mwav\u001b[49m\u001b[43m,\u001b[49m\u001b[43m \u001b[49m\u001b[43mPREPARED_PATH\u001b[49m\u001b[43m)\u001b[49m\n",
      "\u001b[0;31mTypeError\u001b[0m: extract_audio_and_text_all() missing 1 required positional argument: 'prefix'"
     ]
    }
   ],
   "source": [
    "from datareader import extract_audio_and_text_all\n",
    "srt = '/home/vera/Documents/Uni/Master/Master_Thesis/ma-code/data_raw/SRF_AD/subtitles/Wer_wohnt_wo_S24F01.txt'\n",
    "wav = '/home/vera/Documents/Uni/Master/Master_Thesis/ma-code/data_raw/SRF_AD/audio_full_ad/Wer_wohnt_wo_S24F01.wav'\n",
    "prefix = '075'\n",
    "extract_audio_and_text_all(srt, wav, PREPARED_PATH, prefix)"
   ]
  },
  {
   "cell_type": "code",
   "execution_count": null,
   "metadata": {},
   "outputs": [],
   "source": []
  }
 ],
 "metadata": {
  "kernelspec": {
   "display_name": "ma_env2",
   "language": "python",
   "name": "python3"
  },
  "language_info": {
   "codemirror_mode": {
    "name": "ipython",
    "version": 3
   },
   "file_extension": ".py",
   "mimetype": "text/x-python",
   "name": "python",
   "nbconvert_exporter": "python",
   "pygments_lexer": "ipython3",
   "version": "3.12.3"
  }
 },
 "nbformat": 4,
 "nbformat_minor": 2
}
