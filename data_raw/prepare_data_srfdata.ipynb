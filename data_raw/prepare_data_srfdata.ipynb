{
 "cells": [
  {
   "cell_type": "markdown",
   "metadata": {},
   "source": [
    "# SRF AD: Preprocessing and Data Stats"
   ]
  },
  {
   "cell_type": "markdown",
   "metadata": {},
   "source": [
    "## Preprocessing\n",
    "Manual preprocessing included:\n",
    "* filtering out non Swiss German audio\n",
    "* check match between audio and subtitles\n",
    "\n",
    "Preprocessing includes:\n",
    "* matching subtitles with audio\n",
    "* cutting audio and subtitles into subtitles units\n",
    "* processing different subtitle formats (swiss vs. internation srt files)\n",
    "* normaliziation of audio description\n",
    "  "
   ]
  },
  {
   "cell_type": "code",
   "execution_count": 2,
   "metadata": {},
   "outputs": [],
   "source": [
    "from datareader import prepare_srfad_data\n",
    "import sys\n",
    "sys.path.append('..')\n",
    "\n",
    "AUDIO_PATH = '../data_raw/SRF_AD/audio_full_ad'\n",
    "TEXT_PATH = '../data_raw/SRF_AD/subtitles'\n",
    "PREPARED_PATH = '../data_prepared/srf_ad'"
   ]
  },
  {
   "cell_type": "markdown",
   "metadata": {},
   "source": [
    "There was a mismatch between the names of audio files and subtitles. Going through them manually, resulted in the matching below."
   ]
  },
  {
   "cell_type": "code",
   "execution_count": 3,
   "metadata": {},
   "outputs": [
    {
     "name": "stderr",
     "output_type": "stream",
     "text": [
      "Processing files: 100%|██████████| 285/285 [00:12<00:00, 22.95it/s]\n"
     ]
    }
   ],
   "source": [
    "manual_match = {\n",
    "    '20200214_AuD_S11_F06.wav': '2020_AuD_S11_F06.srt',\n",
    "    '20200214_AuD_S11_F05.wav': '2020_AuD_S11_F05.srt',\n",
    "    '20200214_AuD_S11_F03.wav': '2020_AuD_S11_F03.srt',\n",
    "    '20200214_AuD_S11_F04.wav': '2020_AuD_S11_F04.srt',\n",
    "    '20200214_AuD_S11_F02.wav': '2020_AuD_S11_F02.srt',\n",
    "    '20200214_AuD_S11_F07.wav': '2020_AuD_S11_F07.srt',\n",
    "    '1G100_Augustspecial.wav': '1G100_August_Special.CHDE.srt',\n",
    "    '1G100_401.wav': '1g100_401.CHDE.srt',\n",
    "    '20200214_AuD_S11_F01.wav':'2020_AuD_S11_F01.srt',\n",
    "    '1G100_361.wav': '1G100_362.CHDE.srt',\n",
    "    '1G100_362.wav': '1G100_361.CHDE.srt',\n",
    "    '1G100_403.wav': '1G100_404.CHDE.srt',\n",
    "    '1G100_404.wav': '1G100_403.CHDE.srt',\n",
    "    '1G100_305.wav': '1G100_308.CHDE.srt',\n",
    "    '1G100_306.wav': '1G100_309.CHDE.srt',\n",
    "    '1G100_307.wav': '1G100_305.CHDE.srt',\n",
    "    '1G100_308.wav': '1G100_306.CHDE.srt',\n",
    "    '1G100_309.wav': '1G100_307.CHDE.srt',\n",
    "    '1G100_354.wav': '1G100_355.CHDE.srt',\n",
    "    '1G100_355.wav': '1G100_354.CHDE.srt',\n",
    "    '1G100_377.wav': '1G100_379.CHDE.srt',\n",
    "    '1G100_378.wav': '1G100_377.CHDE.srt',\n",
    "    '1G100_379.wav': '1G100_378.CHDE.srt',\n",
    "}\n",
    "prepare_srfad_data(AUDIO_PATH, TEXT_PATH, PREPARED_PATH, manual_match)\n",
    "\n"
   ]
  },
  {
   "cell_type": "markdown",
   "metadata": {},
   "source": [
    "## Data Stats\n",
    "\n",
    "### Stats of the entire dataset"
   ]
  },
  {
   "cell_type": "code",
   "execution_count": 4,
   "metadata": {},
   "outputs": [
    {
     "name": "stdout",
     "output_type": "stream",
     "text": [
      "Total audio duration: 2230.1452833333033 minutes\n",
      "Total audio duration: 37.16908805555506 hours\n",
      "Average audio duration: 0.050520927062802784 seconds\n"
     ]
    }
   ],
   "source": [
    "from datareader import calculate_total_audio_stats\n",
    "\n",
    "total_audio_min, avg_dur, durations = calculate_total_audio_stats(PREPARED_PATH)\n",
    "print(f'Total audio duration: {total_audio_min} minutes')\n",
    "print(f'Total audio duration: {total_audio_min/60} hours')\n",
    "print(f'Average audio duration: {avg_dur} seconds')\n",
    "\n"
   ]
  },
  {
   "cell_type": "code",
   "execution_count": 5,
   "metadata": {},
   "outputs": [
    {
     "name": "stdout",
     "output_type": "stream",
     "text": [
      "Minimum audio duration: 0.266 seconds\n",
      "Maximum audio duration: 17.04 seconds\n"
     ]
    }
   ],
   "source": [
    "min_dur = min(durations)*60\n",
    "max_dur = max(durations)*60\n",
    "print(f'Minimum audio duration: {min_dur} seconds')\n",
    "print(f'Maximum audio duration: {max_dur} seconds')\n"
   ]
  },
  {
   "cell_type": "code",
   "execution_count": 6,
   "metadata": {},
   "outputs": [
    {
     "data": {
      "text/plain": [
       "Text(0.5, 0, 'Duration in seconds')"
      ]
     },
     "execution_count": 6,
     "metadata": {},
     "output_type": "execute_result"
    },
    {
     "data": {
      "image/png": "[encoded data removed]",
      "text/plain": [
       "<Figure size 640x480 with 1 Axes>"
      ]
     },
     "metadata": {},
     "output_type": "display_data"
    }
   ],
   "source": [
    "# plot durations as histogram in seconds\n",
    "import matplotlib.pyplot as plt\n",
    "durations_sec = [d*60 for d in durations]\n",
    "plt.hist(durations_sec, bins=20)\n",
    "plt.title('Audio durations')\n",
    "plt.xlabel('Duration in seconds')"
   ]
  },
  {
   "cell_type": "code",
   "execution_count": 7,
   "metadata": {},
   "outputs": [
    {
     "ename": "KeyboardInterrupt",
     "evalue": "",
     "output_type": "error",
     "traceback": [
      "\u001b[0;31m---------------------------------------------------------------------------\u001b[0m",
      "\u001b[0;31mKeyboardInterrupt\u001b[0m                         Traceback (most recent call last)",
      "Cell \u001b[0;32mIn[7], line 4\u001b[0m\n\u001b[1;32m      1\u001b[0m \u001b[38;5;28;01mfrom\u001b[39;00m \u001b[38;5;21;01mdatareader\u001b[39;00m \u001b[38;5;28;01mimport\u001b[39;00m get_token_stats, hist_plot\n\u001b[1;32m      2\u001b[0m \u001b[38;5;28;01mimport\u001b[39;00m \u001b[38;5;21;01mos\u001b[39;00m\n\u001b[0;32m----> 4\u001b[0m token_stats \u001b[38;5;241m=\u001b[39m \u001b[43mget_token_stats\u001b[49m\u001b[43m(\u001b[49m\u001b[43mPREPARED_PATH\u001b[49m\u001b[43m)\u001b[49m\n\u001b[1;32m      6\u001b[0m token_stats\u001b[38;5;241m.\u001b[39mdescribe()\n",
      "File \u001b[0;32m~/Documents/Uni/Master/Master_Thesis/ma-code/data_raw/datareader.py:604\u001b[0m, in \u001b[0;36mget_token_stats\u001b[0;34m(directory)\u001b[0m\n\u001b[1;32m    602\u001b[0m     \u001b[38;5;28;01mraise\u001b[39;00m \u001b[38;5;167;01mValueError\u001b[39;00m(\u001b[38;5;124mf\u001b[39m\u001b[38;5;124m'\u001b[39m\u001b[38;5;124mDuplicate ID: \u001b[39m\u001b[38;5;132;01m{\u001b[39;00mident\u001b[38;5;132;01m}\u001b[39;00m\u001b[38;5;124m'\u001b[39m)\n\u001b[1;32m    603\u001b[0m ids\u001b[38;5;241m.\u001b[39mappend(ident)\n\u001b[0;32m--> 604\u001b[0m \u001b[38;5;28;01mwith\u001b[39;00m \u001b[38;5;28mopen\u001b[39m(\u001b[43mos\u001b[49m\u001b[38;5;241;43m.\u001b[39;49m\u001b[43mpath\u001b[49m\u001b[38;5;241;43m.\u001b[39;49m\u001b[43mjoin\u001b[49m\u001b[43m(\u001b[49m\u001b[43mdirectory\u001b[49m\u001b[43m,\u001b[49m\u001b[43m \u001b[49m\u001b[43mfile\u001b[49m\u001b[43m)\u001b[49m, \u001b[38;5;124m'\u001b[39m\u001b[38;5;124mr\u001b[39m\u001b[38;5;124m'\u001b[39m, encoding\u001b[38;5;241m=\u001b[39m\u001b[38;5;124m'\u001b[39m\u001b[38;5;124mutf-8\u001b[39m\u001b[38;5;124m'\u001b[39m) \u001b[38;5;28;01mas\u001b[39;00m f:\n\u001b[1;32m    605\u001b[0m     text \u001b[38;5;241m=\u001b[39m f\u001b[38;5;241m.\u001b[39mread()\u001b[38;5;241m.\u001b[39mrstrip()\n\u001b[1;32m    606\u001b[0m     tokens \u001b[38;5;241m=\u001b[39m basic_tokenizer(text)\n",
      "File \u001b[0;32m<frozen posixpath>:71\u001b[0m, in \u001b[0;36mjoin\u001b[0;34m(a, *p)\u001b[0m\n",
      "\u001b[0;31mKeyboardInterrupt\u001b[0m: "
     ]
    }
   ],
   "source": [
    "from datareader import get_token_stats, hist_plot\n",
    "import os\n",
    "\n",
    "token_stats = get_token_stats(PREPARED_PATH)\n",
    "\n",
    "token_stats.describe()\n"
   ]
  },
  {
   "cell_type": "code",
   "execution_count": null,
   "metadata": {},
   "outputs": [
    {
     "data": {
      "text/plain": [
       "<Axes: title={'center': 'Number of tokens per audio'}, xlabel='Number of tokens', ylabel='Count'>"
      ]
     },
     "execution_count": 12,
     "metadata": {},
     "output_type": "execute_result"
    },
    {
     "data": {
      "image/png": "[encoded data removed]",
      "text/plain": [
       "<Figure size 640x480 with 1 Axes>"
      ]
     },
     "metadata": {},
     "output_type": "display_data"
    }
   ],
   "source": [
    "\n",
    "hist_plot(token_stats, 'nr_token', 'Number of tokens per audio', 'Number of tokens', os.path.join(PREPARED_PATH, 'hist_tokens.png'))"
   ]
  },
  {
   "cell_type": "markdown",
   "metadata": {},
   "source": [
    "### Stats of the split dataset"
   ]
  },
  {
   "cell_type": "code",
   "execution_count": null,
   "metadata": {},
   "outputs": [],
   "source": [
    "from datareader import calculate_total_audio_stats\n",
    "import pandas as pd\n",
    "import os\n",
    "import matplotlib.pyplot as plt\n",
    "\n",
    "split_dir = '/home/vera/Documents/Uni/Master/Master_Thesis/ma-code/data_prepared/srf_ad_split'\n",
    "\n",
    "train_file = os.path.join(split_dir, 'train_srf_ad.txt')\n",
    "val_file = os.path.join(split_dir, 'val_srf_ad.txt')\n",
    "test_file = os.path.join(split_dir, 'test_srf_ad.txt')\n",
    "\n",
    "def get_duration_plot(durations: list[str]):\n",
    "    durations_sec = [d*60 for d in durations]\n",
    "    plt.hist(durations_sec, bins=20)\n",
    "    plt.title('Audio durations')\n",
    "    plt.xlabel('Duration in seconds')\n",
    "\n",
    "def get_stats(file: str):\n",
    "    audio_file_paths = []\n",
    "    with open(file, 'r') as f:\n",
    "        lines = f.readlines()\n",
    "        for line in lines:\n",
    "            audio_file_paths.append(line.split('\\t')[0])\n",
    "    audio_files = [os.path.basename(file) for file in audio_file_paths]\n",
    "    print(f'Number of audio files: {len(audio_files)}')\n",
    "    total_audio_min, avg_dur, durations = calculate_total_audio_stats(PREPARED_PATH, audio_files)\n",
    "    print(f'Total audio duration: {total_audio_min} minutes')\n",
    "    print(f'Total audio duration: {total_audio_min/60} hours')\n",
    "    print(f'Average audio duration: {avg_dur} seconds')\n",
    "    return durations\n"
   ]
  },
  {
   "cell_type": "markdown",
   "metadata": {},
   "source": [
    "#### Training split"
   ]
  },
  {
   "cell_type": "code",
   "execution_count": null,
   "metadata": {},
   "outputs": [
    {
     "name": "stdout",
     "output_type": "stream",
     "text": [
      "Number of audio files: 35314\n",
      "Total audio duration: 1785.9541666666553 minutes\n",
      "Total audio duration: 29.765902777777587 hours\n",
      "Average audio duration: 0.05057354495856191 seconds\n",
      "35314\n"
     ]
    },
    {
     "data": {
      "image/png": "[encoded data removed]",
      "text/plain": [
       "<Figure size 640x480 with 1 Axes>"
      ]
     },
     "metadata": {},
     "output_type": "display_data"
    }
   ],
   "source": [
    "durations = get_stats(train_file)\n",
    "print(len(durations))\n",
    "get_duration_plot(durations)"
   ]
  },
  {
   "cell_type": "markdown",
   "metadata": {},
   "source": [
    "#### Validation split"
   ]
  },
  {
   "cell_type": "code",
   "execution_count": null,
   "metadata": {},
   "outputs": [
    {
     "name": "stdout",
     "output_type": "stream",
     "text": [
      "Number of audio files: 4414\n",
      "Total audio duration: 221.67785000000026 minutes\n",
      "Total audio duration: 3.6946308333333375 hours\n",
      "Average audio duration: 0.05022153375623024 seconds\n"
     ]
    },
    {
     "data": {
      "image/png": "[encoded data removed]",
      "text/plain": [
       "<Figure size 640x480 with 1 Axes>"
      ]
     },
     "metadata": {},
     "output_type": "display_data"
    }
   ],
   "source": [
    "durations = get_stats(val_file)\n",
    "get_duration_plot(durations)"
   ]
  },
  {
   "cell_type": "markdown",
   "metadata": {},
   "source": [
    "#### Test split"
   ]
  },
  {
   "cell_type": "code",
   "execution_count": null,
   "metadata": {},
   "outputs": [
    {
     "name": "stdout",
     "output_type": "stream",
     "text": [
      "Number of audio files: 4415\n",
      "Total audio duration: 222.5132666666672 minutes\n",
      "Total audio duration: 3.708554444444453 hours\n",
      "Average audio duration: 0.05039938089845237 seconds\n"
     ]
    },
    {
     "data": {
      "image/png": "[encoded data removed]",
      "text/plain": [
       "<Figure size 640x480 with 1 Axes>"
      ]
     },
     "metadata": {},
     "output_type": "display_data"
    }
   ],
   "source": [
    "durations = get_stats(test_file)\n",
    "get_duration_plot(durations)"
   ]
  },
  {
   "cell_type": "code",
   "execution_count": null,
   "metadata": {},
   "outputs": [
    {
     "data": {
      "image/png": "[encoded data removed]",
      "text/plain": [
       "<Figure size 640x480 with 1 Axes>"
      ]
     },
     "metadata": {},
     "output_type": "display_data"
    }
   ],
   "source": [
    "sizes = [29.765902,3.694630,3.708554]\n",
    "plot = plt.bar(['Train', 'Validation', 'Test'], sizes)\n",
    "plt.ylabel('Size in h')\n",
    "plt.title('Sizes of SRF AD splits')\n",
    "# add label to bars\n",
    "for rect in plot:\n",
    "    height = rect.get_height()\n",
    "    plt.text(rect.get_x() + rect.get_width()/2.0, height, '%.2f' % height, ha='center', va='bottom')\n",
    "plt.show()"
   ]
  },
  {
   "cell_type": "markdown",
   "metadata": {},
   "source": [
    "## Perculiarities\n",
    "* very short subtitles\n",
    "* white spaces only subtitles"
   ]
  },
  {
   "cell_type": "code",
   "execution_count": null,
   "metadata": {},
   "outputs": [
    {
     "name": "stdout",
     "output_type": "stream",
     "text": [
      "Text: D Mirjam\n",
      "Text: De Jürg\n",
      "Text: Zelia:\n",
      "Text: E Türe\n",
      "Text: Prost!\n",
      "Text: D Carmela\n",
      "Text: grinst\n",
      "Text: Sagmähl stübt\n",
      "Text: Dusse\n",
      "Text: Undertitel:\n",
      "Text: ?\n",
      "Text: $E Langhaarigi\n",
      "Text: «Die Bauernbrüder»\n",
      "Text: Imene Salon\n",
      "Text: Sie gestikuliert\n",
      "Text: «Fabio Heim»\n",
      "Text: 15\n",
      "Text: Zum Jean-Pierre\n",
      "Text: De Jonas\n",
      "Text: Dusse.\n",
      "Text: Dinne.\n",
      "Text: Untertitel:\n",
      "Text: Dinne:\n",
      "Text: D Christa\n",
      "Text: Dinne.\n",
      "Text: Dusse.\n",
      "Text: Dinne.\n",
      "Text: kommt weg\n",
      "Text: Caroline:\n",
      "Text: srf.ch/1gegen100\n",
      "Text: 30\n",
      "Text: De Gempeler\n",
      "Text: Der Hiufspfleger\n",
      "Text: Jackie:\n",
      "Text: e Filmplakat\n",
      "Text: Der Uniformiert\n",
      "Text: Sini Texttafle\n",
      "Text: De Gaehwiler\n",
      "Text: über 30\n",
      "Text: Zwöi Rentier\n",
      "Text: $Verusse\n",
      "Text: Schrift:\n",
      "Text: Vorusse.\n",
      "Text: Kristine:\n",
      "Text: über 30\n",
      "Text: Vorusse.\n",
      "Text: Felsspält.\n",
      "Text: über 40\n",
      "Text: 30\n",
      "Text: über 30\n",
      "Text: De lächlet\n",
      "Text: Dusse.\n",
      "Text: Dine.\n",
      "Text: UTs??\n",
      "Text: 10\n",
      "Text: Kristine:\n",
      "Text: 15\n",
      "Text: uf 10\n",
      "Text: über 50\n",
      "Text: $E Blondierti\n",
      "Text: Dusse.\n",
      "Text: De Sanitäter\n",
      "Text: De Emil\n",
      "Text: Untertitel:\n",
      "Text: Kristine:\n",
      "Text: Schrift:\n",
      "Text: D Simone\n",
      "Text: Himbeere.\n",
      "Text: über 40\n",
      "Text: D Karin\n",
      "Text: 10\n",
      "Text: Undertitel:\n",
      "Text: Ihres Gsicht\n",
      "Text: über 25\n",
      "Text: Mitme Wiietickette\n",
      "Text: En Chrane\n",
      "Text: Pfanny:\n",
      "Text: 20\n",
      "Text: 5\n",
      "Text: D Monika\n",
      "Text: uf 20\n",
      "Text: Zwe Schwinger\n",
      "Text: Kristine:\n",
      "Text: über 25\n",
      "Text: Dutzendi Rubixcube\n",
      "Text: Familiefotene.\n",
      "Text: Schrift:\n",
      "Text: Schreft:\n",
      "Text: De Gabor\n",
      "Text: 15\n",
      "Text: De Sven\n",
      "Text: de Michel\n",
      "Text: über 40\n",
      "Text: Duss:\n",
      "Text: Dusse.\n",
      "Text: Spöter.\n",
      "Text: Zilvia:\n",
      "Text: Schriibtafele:\n",
      "Text: D Marielle\n",
      "Text: Zilvia:\n",
      "Text: verusse.\n",
      "Text: D Anita\n",
      "Text: 15\n",
      "Text: über 40\n",
      "Text: über ZWÄNZG\n",
      "Text: De Christian\n",
      "Text: Kristine:\n",
      "Text: De Gion\n",
      "Text: Thusa:\n",
      "Text: Verusse.\n",
      "Text: es Bild\n",
      "Text: Carin:\n",
      "Text: über 20\n",
      "Text: De Sandro\n",
      "Text: Dusse:\n",
      "Text: Jersey-Rind.\n",
      "Text: Im Garte\n",
      "Text: Kristine:\n",
      "Text: Dusse.\n",
      "Text: 10\n",
      "Text: De Steff\n",
      "Text: Dussä:\n",
      "Text: Verusse.\n",
      "Text: D Eliana\n",
      "Text: Gut.\n",
      "Text: Dihei.\n",
      "Text: Pfanny:\n",
      "Text: über 50\n",
      "Text: Kristine:\n",
      "Text: über 40\n",
      "Text: über 20\n",
      "Text: Dreimal.\n",
      "Text: Dusse.\n",
      "Text: Drinne.\n",
      "Text: D Mirjam\n",
      "Text: Tangela:\n",
      "Text: ame Flughafe\n",
      "Text: 15\n",
      "Text: $E Grauhorigi\n",
      "Text: D Tschigulata\n",
      "Text: Schreft: Kerzerslauf\n",
      "Text: De Paul\n",
      "Text: Ide Chuchi\n",
      "Text: Zilvia:\n",
      "Text: Pfanny:\n",
      "Text: 20\n",
      "Text: De Gempeler\n",
      "Text: über 30\n",
      "Text: Hier.\n",
      "Text: De Handwerker\n",
      "Text: D Miriam\n",
      "Text: Verusse.\n",
      "Text: Si lächlet\n",
      "Text: 25\n",
      "Text: 10\n",
      "Text: Schrift:\n",
      "Text: En Handwerker\n",
      "Text: Er blinzlet\n",
      "Text: E grauhoorigi\n",
      "Text: über 20\n",
      "Text: Zandra:\n",
      "Text: Verusse..\n",
      "Text: Undertitel:\n",
      "Text: $De Churzhaarig\n",
      "Text: 20\n",
      "Text: Di Mollig\n",
      "Text: über 30\n",
      "Text: Ausbildnerin.\n",
      "Text: Dusse.\n",
      "Text: Pfanny:\n",
      "Text: De Usbilder\n",
      "Text: Kinderföteli\n",
      "Text: Punkte-Tabälle:\n",
      "Text: Verusse.\n",
      "Text: Spöter.\n",
      "Text: Nicole Mertens\n",
      "Text: Dinne:\n",
      "Text: über 20\n",
      "Text: En Töggelichaschte\n",
      "Text: E Linienetz\n",
      "Text: Undertitel:\n",
      "Text: Kiana:\n",
      "Text: Schrift:\n",
      "Text: 25\n",
      "Text: «Die Vollzeitmütter»\n",
      "Text: Dusse.\n",
      "Text: De Emil\n",
      "Text: Dusse:\n",
      "Text: $$E Blondi\n",
      "Text: Spöter.\n",
      "Text: Drin.\n",
      "Text: D Simone\n",
      "Text: Schablonegraffitis.\n",
      "Text: Dihei.\n",
      "Text: Kiana:\n",
      "Text: D'Petra\n",
      "Text: 20\n",
      "Text: Schau hier\n",
      "Text: 5\n",
      "Text: D Therese\n",
      "Text: Es Video\n",
      "Text: über 60\n",
      "Text: Verusse.\n",
      "Text: Vorusse.\n",
      "Text: D'Miriam\n",
      "Text: Dusse.\n",
      "Text: Inere Chuchi\n",
      "Text: D Fekrije\n",
      "Text: Dusse.\n",
      "Text: 20\n",
      "Text: Dusse.\n",
      "Text: Es Symbol\n",
      "Text: Spöter.\n",
      "Text: Das ist\n",
      "Text: Verusse.\n",
      "Text: Punkte-Tabälle:\n",
      "Text: En Elektrocheminée\n",
      "Text: De Markus\n",
      "Text: D Eliana\n",
      "Text: Dusse.\n",
      "Text: De Peter\n",
      "Text: Super.\n",
      "Text: De Mike\n",
      "Text: Caroline:\n",
      "Text: De Handwerker\n",
      "Text: De Gabor\n",
      "Text: Ime Seckli\n",
      "Text: Thusa:\n",
      "Text: en koorpulänte\n",
      "Text: Spöter.\n",
      "Text: Dusse.\n",
      "Text: «Fabio Heim»\n",
      "Text: 5\n",
      "Text: E Grafik\n",
      "Text: D Mona\n",
      "Text: D Melanie\n"
     ]
    }
   ],
   "source": [
    "# print text with less than/equal to 2 tokens\n",
    "short_texts = token_stats[token_stats['nr_token'] <= 2].text.to_list()\n",
    "for t in short_texts:\n",
    "    print(f'Text: {t}')"
   ]
  },
  {
   "cell_type": "markdown",
   "metadata": {},
   "source": [
    "Many seemingly white spaces only subtitles. Checke a couple manually and really seem to be empty:\n",
    "* 287_169: AuD_2021_F02\n",
    "\n",
    "> 169\n",
    "> 00:38:21,400 --> 00:38:22,880\n",
    "\n",
    "* 126_52: 1G100_290\n",
    "> 52\n",
    "> 00:14:30,680 --> 00:14:32,720\n",
    "\n",
    "\n",
    "* 035_81: 1G100_305\n",
    "> 81\n",
    "> 00:42:20,240 --> 00:42:22,360\n",
    "\n"
   ]
  },
  {
   "cell_type": "code",
   "execution_count": null,
   "metadata": {},
   "outputs": [
    {
     "data": {
      "text/html": [
       "<div>\n",
       "<style scoped>\n",
       "    .dataframe tbody tr th:only-of-type {\n",
       "        vertical-align: middle;\n",
       "    }\n",
       "\n",
       "    .dataframe tbody tr th {\n",
       "        vertical-align: top;\n",
       "    }\n",
       "\n",
       "    .dataframe thead th {\n",
       "        text-align: right;\n",
       "    }\n",
       "</style>\n",
       "<table border=\"1\" class=\"dataframe\">\n",
       "  <thead>\n",
       "    <tr style=\"text-align: right;\">\n",
       "      <th></th>\n",
       "      <th>id</th>\n",
       "      <th>text</th>\n",
       "      <th>nr_token</th>\n",
       "      <th>nr_sentences</th>\n",
       "      <th>avg_tokens_per_sentence</th>\n",
       "    </tr>\n",
       "  </thead>\n",
       "  <tbody>\n",
       "    <tr>\n",
       "      <th>1400</th>\n",
       "      <td>171_143</td>\n",
       "      <td>grinst</td>\n",
       "      <td>1</td>\n",
       "      <td>1</td>\n",
       "      <td>1.0</td>\n",
       "    </tr>\n",
       "    <tr>\n",
       "      <th>1475</th>\n",
       "      <td>134_104</td>\n",
       "      <td>Dusse</td>\n",
       "      <td>1</td>\n",
       "      <td>1</td>\n",
       "      <td>1.0</td>\n",
       "    </tr>\n",
       "    <tr>\n",
       "      <th>3846</th>\n",
       "      <td>200_29</td>\n",
       "      <td>15</td>\n",
       "      <td>1</td>\n",
       "      <td>1</td>\n",
       "      <td>1.0</td>\n",
       "    </tr>\n",
       "    <tr>\n",
       "      <th>6974</th>\n",
       "      <td>095_176</td>\n",
       "      <td>30</td>\n",
       "      <td>1</td>\n",
       "      <td>1</td>\n",
       "      <td>1.0</td>\n",
       "    </tr>\n",
       "    <tr>\n",
       "      <th>8376</th>\n",
       "      <td>121_160</td>\n",
       "      <td>$Verusse</td>\n",
       "      <td>1</td>\n",
       "      <td>1</td>\n",
       "      <td>1.0</td>\n",
       "    </tr>\n",
       "    <tr>\n",
       "      <th>10389</th>\n",
       "      <td>246_96</td>\n",
       "      <td>30</td>\n",
       "      <td>1</td>\n",
       "      <td>1</td>\n",
       "      <td>1.0</td>\n",
       "    </tr>\n",
       "    <tr>\n",
       "      <th>11248</th>\n",
       "      <td>200_28</td>\n",
       "      <td>10</td>\n",
       "      <td>1</td>\n",
       "      <td>1</td>\n",
       "      <td>1.0</td>\n",
       "    </tr>\n",
       "    <tr>\n",
       "      <th>11523</th>\n",
       "      <td>200_145</td>\n",
       "      <td>15</td>\n",
       "      <td>1</td>\n",
       "      <td>1</td>\n",
       "      <td>1.0</td>\n",
       "    </tr>\n",
       "    <tr>\n",
       "      <th>14444</th>\n",
       "      <td>200_160</td>\n",
       "      <td>10</td>\n",
       "      <td>1</td>\n",
       "      <td>1</td>\n",
       "      <td>1.0</td>\n",
       "    </tr>\n",
       "    <tr>\n",
       "      <th>16157</th>\n",
       "      <td>200_153</td>\n",
       "      <td>20</td>\n",
       "      <td>1</td>\n",
       "      <td>1</td>\n",
       "      <td>1.0</td>\n",
       "    </tr>\n",
       "    <tr>\n",
       "      <th>16161</th>\n",
       "      <td>200_70</td>\n",
       "      <td>5</td>\n",
       "      <td>1</td>\n",
       "      <td>1</td>\n",
       "      <td>1.0</td>\n",
       "    </tr>\n",
       "    <tr>\n",
       "      <th>17262</th>\n",
       "      <td>123_37</td>\n",
       "      <td>15</td>\n",
       "      <td>1</td>\n",
       "      <td>1</td>\n",
       "      <td>1.0</td>\n",
       "    </tr>\n",
       "    <tr>\n",
       "      <th>20691</th>\n",
       "      <td>200_72</td>\n",
       "      <td>15</td>\n",
       "      <td>1</td>\n",
       "      <td>1</td>\n",
       "      <td>1.0</td>\n",
       "    </tr>\n",
       "    <tr>\n",
       "      <th>22929</th>\n",
       "      <td>200_144</td>\n",
       "      <td>10</td>\n",
       "      <td>1</td>\n",
       "      <td>1</td>\n",
       "      <td>1.0</td>\n",
       "    </tr>\n",
       "    <tr>\n",
       "      <th>27260</th>\n",
       "      <td>123_110</td>\n",
       "      <td>15</td>\n",
       "      <td>1</td>\n",
       "      <td>1</td>\n",
       "      <td>1.0</td>\n",
       "    </tr>\n",
       "    <tr>\n",
       "      <th>28799</th>\n",
       "      <td>200_73</td>\n",
       "      <td>20</td>\n",
       "      <td>1</td>\n",
       "      <td>1</td>\n",
       "      <td>1.0</td>\n",
       "    </tr>\n",
       "    <tr>\n",
       "      <th>29577</th>\n",
       "      <td>123_111</td>\n",
       "      <td>25</td>\n",
       "      <td>1</td>\n",
       "      <td>1</td>\n",
       "      <td>1.0</td>\n",
       "    </tr>\n",
       "    <tr>\n",
       "      <th>29684</th>\n",
       "      <td>200_71</td>\n",
       "      <td>10</td>\n",
       "      <td>1</td>\n",
       "      <td>1</td>\n",
       "      <td>1.0</td>\n",
       "    </tr>\n",
       "    <tr>\n",
       "      <th>31701</th>\n",
       "      <td>200_146</td>\n",
       "      <td>20</td>\n",
       "      <td>1</td>\n",
       "      <td>1</td>\n",
       "      <td>1.0</td>\n",
       "    </tr>\n",
       "    <tr>\n",
       "      <th>32862</th>\n",
       "      <td>247_57</td>\n",
       "      <td>Kinderföteli</td>\n",
       "      <td>1</td>\n",
       "      <td>1</td>\n",
       "      <td>1.0</td>\n",
       "    </tr>\n",
       "    <tr>\n",
       "      <th>35817</th>\n",
       "      <td>200_147</td>\n",
       "      <td>25</td>\n",
       "      <td>1</td>\n",
       "      <td>1</td>\n",
       "      <td>1.0</td>\n",
       "    </tr>\n",
       "    <tr>\n",
       "      <th>39242</th>\n",
       "      <td>246_95</td>\n",
       "      <td>20</td>\n",
       "      <td>1</td>\n",
       "      <td>1</td>\n",
       "      <td>1.0</td>\n",
       "    </tr>\n",
       "    <tr>\n",
       "      <th>39326</th>\n",
       "      <td>200_27</td>\n",
       "      <td>5</td>\n",
       "      <td>1</td>\n",
       "      <td>1</td>\n",
       "      <td>1.0</td>\n",
       "    </tr>\n",
       "    <tr>\n",
       "      <th>40951</th>\n",
       "      <td>200_85</td>\n",
       "      <td>20</td>\n",
       "      <td>1</td>\n",
       "      <td>1</td>\n",
       "      <td>1.0</td>\n",
       "    </tr>\n",
       "    <tr>\n",
       "      <th>43934</th>\n",
       "      <td>200_159</td>\n",
       "      <td>5</td>\n",
       "      <td>1</td>\n",
       "      <td>1</td>\n",
       "      <td>1.0</td>\n",
       "    </tr>\n",
       "  </tbody>\n",
       "</table>\n",
       "</div>"
      ],
      "text/plain": [
       "            id          text  nr_token  nr_sentences  avg_tokens_per_sentence\n",
       "1400   171_143        grinst         1             1                      1.0\n",
       "1475   134_104         Dusse         1             1                      1.0\n",
       "3846    200_29            15         1             1                      1.0\n",
       "6974   095_176            30         1             1                      1.0\n",
       "8376   121_160      $Verusse         1             1                      1.0\n",
       "10389   246_96            30         1             1                      1.0\n",
       "11248   200_28            10         1             1                      1.0\n",
       "11523  200_145            15         1             1                      1.0\n",
       "14444  200_160            10         1             1                      1.0\n",
       "16157  200_153            20         1             1                      1.0\n",
       "16161   200_70             5         1             1                      1.0\n",
       "17262   123_37            15         1             1                      1.0\n",
       "20691   200_72            15         1             1                      1.0\n",
       "22929  200_144            10         1             1                      1.0\n",
       "27260  123_110            15         1             1                      1.0\n",
       "28799   200_73            20         1             1                      1.0\n",
       "29577  123_111            25         1             1                      1.0\n",
       "29684   200_71            10         1             1                      1.0\n",
       "31701  200_146            20         1             1                      1.0\n",
       "32862   247_57  Kinderföteli         1             1                      1.0\n",
       "35817  200_147            25         1             1                      1.0\n",
       "39242   246_95            20         1             1                      1.0\n",
       "39326   200_27             5         1             1                      1.0\n",
       "40951   200_85            20         1             1                      1.0\n",
       "43934  200_159             5         1             1                      1.0"
      ]
     },
     "execution_count": 14,
     "metadata": {},
     "output_type": "execute_result"
    }
   ],
   "source": [
    "token_stats[token_stats['nr_token'] <= 1]"
   ]
  },
  {
   "cell_type": "markdown",
   "metadata": {},
   "source": [
    "Map (num_proc=4):   2%|██▉                                                                                                                     | 87/3610 [00:08<05:27, 10.77 examples/s]Faulty audio: /home/vera/Documents/Uni/Master/Master_Thesis/ma-code/data_prepared/srf_ad/241_108_1G100_361.wav\n",
    "Map (num_proc=4):   3%|███▎                                                                                                                    | 98/3610 [00:09<04:31, 12.93 examples/s]Faulty audio: /home/vera/Documents/Uni/Master/Master_Thesis/ma-code/data_prepared/srf_ad/241_81_1G100_361.wav\n",
    "Map (num_proc=4):   3%|███▎                                                                                                                   | 102/3610 [00:09<03:43, 15.66 examples/s]Faulty audio: /home/vera/Documents/Uni/Master/Master_Thesis/ma-code/data_prepared/srf_ad/241_104_1G100_361.wav\n",
    "Map (num_proc=4):   9%|██████████▋                                                                                                            | 323/3610 [00:29<05:30,  9.94 examples/s]Faulty audio: /home/vera/Documents/Uni/Master/Master_Thesis/ma-code/data_prepared/srf_ad/241_105_1G100_361.wav\n",
    "Map (num_proc=4):  10%|████████████▍                                                                                                          | 378/3610 [00:34<04:50, 11.12 examples/s]Faulty audio: /home/vera/Documents/Uni/Master/Master_Thesis/ma-code/data_prepared/srf_ad/033_92_1G100_403.wav\n",
    "Map (num_proc=4):  22%|█████████████████████████▋                                                                                             | 779/3610 [01:07<04:12, 11.22 examples/s]Faulty audio: /home/vera/Documents/Uni/Master/Master_Thesis/ma-code/data_prepared/srf_ad/060_62_1G100_289.wav\n",
    "Map (num_proc=4):  27%|████████████████████████████████▏                                                                                      | 976/3610 [01:24<03:42, 11.86 examples/s]Faulty audio: /home/vera/Documents/Uni/Master/Master_Thesis/ma-code/data_prepared/srf_ad/241_77_1G100_361.wav\n",
    "Map (num_proc=4):  46%|██████████████████████████████████████████████████████▋                                                               | 1673/3610 [02:37<03:59,  8.09 examples/s]Faulty audio: /home/vera/Documents/Uni/Master/Master_Thesis/ma-code/data_prepared/srf_ad/241_87_1G100_361.wav\n",
    "Map (num_proc=4):  47%|███████████████████████████████████████████████████████▎                                                              | 1692/3610 [02:39<04:23,  7.27 examples/s]Faulty audio: /home/vera/Documents/Uni/Master/Master_Thesis/ma-code/data_prepared/srf_ad/033_104_1G100_403.wav\n",
    "Map (num_proc=4):  47%|███████████████████████████████████████████████████████▋                                                              | 1703/3610 [02:40<03:30,  9.05 examples/s]Faulty audio: /home/vera/Documents/Uni/Master/Master_Thesis/ma-code/data_prepared/srf_ad/241_93_1G100_361.wav\n",
    "Map (num_proc=4):  51%|████████████████████████████████████████████████████████████▌                                                         | 1852/3610 [02:55<02:38, 11.11 examples/s]Faulty audio: /home/vera/Documents/Uni/Master/Master_Thesis/ma-code/data_prepared/srf_ad/033_101_1G100_403.wav\n",
    "Map (num_proc=4):  60%|███████████████████████████████████████████████████████████████████████▏                                              | 2179/3610 [03:26<02:21, 10.11 examples/s]Faulty audio: /home/vera/Documents/Uni/Master/Master_Thesis/ma-code/data_prepared/srf_ad/033_125_1G100_403.wav\n",
    "Map (num_proc=4):  63%|██████████████████████████████████████████████████████████████████████████▌                                           | 2280/3610 [03:34<01:49, 12.17 examples/s]Faulty audio: /home/vera/Documents/Uni/Master/Master_Thesis/ma-code/data_prepared/srf_ad/241_75_1G100_361.wav\n",
    "Map (num_proc=4):  73%|█████████████████████████████████████████████████████████████████████████████████████▊                                | 2625/3610 [04:05<01:32, 10.66 examples/s]Faulty audio: /home/vera/Documents/Uni/Master/Master_Thesis/ma-code/data_prepared/srf_ad/033_111_1G100_403.wav\n",
    "Map (num_proc=4):  84%|███████████████████████████████████████████████████████████████████████████████████████████████████▏                  | 3034/3610 [04:41<00:46, 12.35 examples/s]Faulty audio: /home/vera/Documents/Uni/Master/Master_Thesis/ma-code/data_prepared/srf_ad/132_163_Blaulichtgeschichten_01.wav\n",
    "Map (num_proc=4):  91%|███████████████████████████████████████████████████████████████████████████████████████████████████████████▊          | 3299/3610 [05:07<00:30, 10.24 examples/s]Faulty audio: /home/vera/Documents/Uni/Master/Master_Thesis/ma-code/data_prepared/srf_ad/033_109_1G100_403.wav\n",
    "Map (num_proc=4):  97%|██████████████████████████████████████████████████████████████████████████████████████████████████████████████████▎   | 3499/3610 [05:28<00:13,  8.12 examples/s]Faulty audio: /home/vera/Documents/Uni/Master/Master_Thesis/ma-code/data_prepared/srf_ad/132_169_Blaulichtgeschichten_01.wav\n",
    "Map (num_proc=4): 100%|██████████████████████████████████████████████████████████████████████████████████████████████████████████████████████| 3610/3610 [05:37<00:00, 10.69 examples/s]\n"
   ]
  },
  {
   "cell_type": "markdown",
   "metadata": {},
   "source": [
    "En Globus rotiert und kunnt nöcher. D Karte vo Spanie. Im Oste vo Mallorca markiert en wiisse Punkt Cala Radschada. (Cala Rajada) --> En Globus rotiert und kunnt nöcher. D Karte vo Spanie. Im Oste vo Mallorca markiert en wiisse Punkt Cala Radschada. Cala Rajada\n",
    "\n",
    "\n",
    "(ÜBER DIALOG UNDEUTL.) Die vier schüttled enand d Händ. --> ÜBER DIALOG UNDEUTL. Die vier schüttled enand d Händ.\n",
    "\n",
    "\n",
    "D Caroline und de Rolli sitzed ... (\"hanis Gfühl\") ... unterme Pavillon. --> D Caroline und de Rolli sitzed ... \"hanis Gfühl\" ... unterme Pavillon.\n",
    "\n",
    "$$ D Mona ... (\"Ou, merci.\") ... bringt em z Trinke. --> D Mona ... \"Ou, merci.\" ... bringt em z Trinke.\n",
    "\n"
   ]
  },
  {
   "cell_type": "markdown",
   "metadata": {},
   "source": [
    "#### Particularities of audio description\n",
    "\n",
    "* Sometimes the audio is audio description only or also the entire audio of the show\n",
    "* Sometimes there is even swiss german speech in the background --> with some samples not even in the background, but there are breaks where the background becomes louder again\n",
    "  > $$ D Mona ... (\"Ou, merci.\") ... bringt em z Trinke. --> D Mona ... \"Ou, merci.\" ... bringt em z Trinke.\n",
    "* Also subtitles are read out --> Often times in high German, could be found in subtitles due to \" but the timestamps would need to be adjusted to\n",
    "  >  \"Das ist meine Frau! Nicht deine.\" De Fernando und di Schlank gönd.\n",
    "* Annotations by the reader:\n",
    "    > D Fraue laufed zume (Chies-)Garte. -> unclear whether Chies was said in the end (need to check audio)\n",
    "    $$ Si schüttlet de Chopf. (\"Nz\" fast nicht hörbar) -->  Si schüttlet de Chopf. \"Nz\" fast nicht hörbar\n",
    "* Descriptions of the audio\n",
    "    > Mitem Gummring vor sich ... (brumm) ... fahret alli hinterenand her. --> Mitem Gummring vor sich brumm fahret alli hinterenand her."
   ]
  }
 ],
 "metadata": {
  "kernelspec": {
   "display_name": "ma_env2",
   "language": "python",
   "name": "python3"
  },
  "language_info": {
   "codemirror_mode": {
    "name": "ipython",
    "version": 3
   },
   "file_extension": ".py",
   "mimetype": "text/x-python",
   "name": "python",
   "nbconvert_exporter": "python",
   "pygments_lexer": "ipython3",
   "version": "3.12.3"
  }
 },
 "nbformat": 4,
 "nbformat_minor": 2
}
