{
 "cells": [
  {
   "cell_type": "code",
   "execution_count": 1,
   "metadata": {},
   "outputs": [
    {
     "name": "stderr",
     "output_type": "stream",
     "text": [
      "Some weights of BertModel were not initialized from the model checkpoint at /home/vera/Documents/Uni/Master/Master_Thesis/ma-code/model/final and are newly initialized: ['bert.pooler.dense.bias', 'bert.pooler.dense.weight']\n",
      "You should probably TRAIN this model on a down-stream task to be able to use it for predictions and inference.\n"
     ]
    }
   ],
   "source": [
    "from transformers import AutoTokenizer, AutoModel\n",
    "\n",
    "model_path = '/home/vera/Documents/Uni/Master/Master_Thesis/ma-code/model/final'\n",
    "tokenizer = AutoTokenizer.from_pretrained(model_path)\n",
    "model = AutoModel.from_pretrained(model_path)"
   ]
  },
  {
   "cell_type": "code",
   "execution_count": null,
   "metadata": {},
   "outputs": [
    {
     "name": "stdout",
     "output_type": "stream",
     "text": [
      "0.9908702373504639\n"
     ]
    }
   ],
   "source": [
    "from finetune import compute_bertscore\n",
    "\n",
    "true = 'D Silvana luegt sich imene Handspiegel a. Sie musteret sich vo allne Site und hebt d Hand vors Mul.'\n",
    "pred = 'D Silvana luegt sich ime Handspiegel a. Sie muschteret sich vo allne Siite und hebt denn d Hand vors Muul.'\n",
    "\n",
    "score = compute_bertscore(true, pred, model, tokenizer)\n",
    "print(score)"
   ]
  },
  {
   "cell_type": "code",
   "execution_count": 7,
   "metadata": {},
   "outputs": [
    {
     "name": "stdout",
     "output_type": "stream",
     "text": [
      "0.9984920620918274\n"
     ]
    }
   ],
   "source": [
    "true = 'Sie muschteret sich vo allne Siite und hebt denn d Hand vors Muul. D Silvana luegt sich ime Handspiegel a.'\n",
    "pred = 'D Silvana luegt sich ime Handspiegel a. Sie muschteret sich vo allne Siite und hebt denn d Hand vors Muul.'\n",
    "print(compute_bertscore(true, pred, model, tokenizer))"
   ]
  }
 ],
 "metadata": {
  "kernelspec": {
   "display_name": "ma_env2",
   "language": "python",
   "name": "python3"
  },
  "language_info": {
   "codemirror_mode": {
    "name": "ipython",
    "version": 3
   },
   "file_extension": ".py",
   "mimetype": "text/x-python",
   "name": "python",
   "nbconvert_exporter": "python",
   "pygments_lexer": "ipython3",
   "version": "3.12.3"
  }
 },
 "nbformat": 4,
 "nbformat_minor": 2
}
